{
 "metadata": {
  "language_info": {
   "codemirror_mode": {
    "name": "ipython",
    "version": 3
   },
   "file_extension": ".py",
   "mimetype": "text/x-python",
   "name": "python",
   "nbconvert_exporter": "python",
   "pygments_lexer": "ipython3",
   "version": "3.8.6"
  },
  "orig_nbformat": 2,
  "kernelspec": {
   "name": "python386jvsc74a57bd0916dbcbb3f70747c44a77c7bcd40155683ae19c65e1c03b4aa3499c5328201f1",
   "display_name": "Python 3.8.6 64-bit"
  },
  "metadata": {
   "interpreter": {
    "hash": "916dbcbb3f70747c44a77c7bcd40155683ae19c65e1c03b4aa3499c5328201f1"
   }
  }
 },
 "nbformat": 4,
 "nbformat_minor": 2,
 "cells": [
  {
   "source": [
    "# Customer Churn Prediction :\n",
    "\n",
    "Churn rate is a marketing metric that describes the number of customers who leave a business over a specific time period. Every user is assigned a prediction value that estimates their state of churn at any given time.\n",
    "\n",
    "In this notebook I have performed exploratory data ananlysis on the dataset. This dataset mainly consists numerical and categorical feaatures."
   ],
   "cell_type": "markdown",
   "metadata": {}
  },
  {
   "source": [
    "# Libraries"
   ],
   "cell_type": "markdown",
   "metadata": {}
  },
  {
   "cell_type": "code",
   "execution_count": 44,
   "metadata": {},
   "outputs": [],
   "source": [
    "import os\n",
    "import re\n",
    "import pandas as pd\n",
    "import numpy as np\n",
    "import matplotlib.pyplot as plt\n",
    "import seaborn as sns\n",
    "from feature_engine.encoding import MeanEncoder\n"
   ]
  },
  {
   "cell_type": "code",
   "execution_count": 45,
   "metadata": {},
   "outputs": [],
   "source": [
    "# importing dataset\n",
    "train = pd.read_csv('../input/train.csv')\n",
    "test = pd.read_csv('../input/test.csv')"
   ]
  },
  {
   "cell_type": "code",
   "execution_count": 46,
   "metadata": {},
   "outputs": [
    {
     "output_type": "stream",
     "name": "stdout",
     "text": [
      "The shape of the Training dataset is (36992, 25)\nThe shape of the Testing dataset is (19919, 24)\n"
     ]
    }
   ],
   "source": [
    "print(\"The shape of the Training dataset is\", train.shape)\n",
    "print(\"The shape of the Testing dataset is\", test.shape)"
   ]
  },
  {
   "cell_type": "code",
   "execution_count": 47,
   "metadata": {},
   "outputs": [
    {
     "output_type": "execute_result",
     "data": {
      "text/plain": [
       "                                customer_id                Name  age gender  \\\n",
       "3621   fffe43004900440036003200320037003900     Alyson Ericksen   43      F   \n",
       "25815  fffe43004900440035003400330033003800          Candy Mast   19      F   \n",
       "36089  fffe43004900440035003900300035003000      Antonio Bodine   40      M   \n",
       "30114  fffe43004900440034003300390033003100    Luetta Hullinger   12      F   \n",
       "15505  fffe43004900440031003500390032003900  Samantha Ellenwood   58      M   \n",
       "\n",
       "      security_no region_category membership_category joining_date  \\\n",
       "3621      2HGN2O3            City  Premium Membership   2015-10-17   \n",
       "25815     KDU0Q48            Town    Basic Membership   2016-10-29   \n",
       "36089     MWKSLB6            Town       No Membership   2017-10-07   \n",
       "30114     NYP25LP            City     Gold Membership   2017-03-31   \n",
       "15505     3IO2WV9         Village    Basic Membership   2016-12-22   \n",
       "\n",
       "      joined_through_referral referral_id  ... avg_time_spent  \\\n",
       "3621                      Yes    CID57870  ...     177.630000   \n",
       "25815                       ?    CID22363  ...     481.410000   \n",
       "36089                       ?    CID42765  ...     641.690000   \n",
       "30114                      No    xxxxxxxx  ...     363.420000   \n",
       "15505                     Yes    CID26206  ...    1614.849289   \n",
       "\n",
       "      avg_transaction_value avg_frequency_login_days points_in_wallet  \\\n",
       "3621               12713.56                     13.0       760.620000   \n",
       "25815              43802.98                     21.0      1141.957842   \n",
       "36089              33666.00                     18.0       557.476478   \n",
       "30114              29077.92                     27.0              NaN   \n",
       "15505              40418.49                     21.0       139.185375   \n",
       "\n",
       "       used_special_discount  offer_application_preference  past_complaint  \\\n",
       "3621                     Yes                            No              No   \n",
       "25815                     No                           Yes             Yes   \n",
       "36089                    Yes                            No              No   \n",
       "30114                    Yes                           Yes             Yes   \n",
       "15505                    Yes                            No             Yes   \n",
       "\n",
       "               complaint_status              feedback churn_risk_score  \n",
       "3621             Not Applicable  Poor Product Quality                3  \n",
       "25815  No Information Available  Poor Product Quality                5  \n",
       "36089            Not Applicable          Poor Website                5  \n",
       "30114                  Unsolved  Poor Product Quality                3  \n",
       "15505       Solved in Follow-up          Too many ads                5  \n",
       "\n",
       "[5 rows x 25 columns]"
      ],
      "text/html": "<div>\n<style scoped>\n    .dataframe tbody tr th:only-of-type {\n        vertical-align: middle;\n    }\n\n    .dataframe tbody tr th {\n        vertical-align: top;\n    }\n\n    .dataframe thead th {\n        text-align: right;\n    }\n</style>\n<table border=\"1\" class=\"dataframe\">\n  <thead>\n    <tr style=\"text-align: right;\">\n      <th></th>\n      <th>customer_id</th>\n      <th>Name</th>\n      <th>age</th>\n      <th>gender</th>\n      <th>security_no</th>\n      <th>region_category</th>\n      <th>membership_category</th>\n      <th>joining_date</th>\n      <th>joined_through_referral</th>\n      <th>referral_id</th>\n      <th>...</th>\n      <th>avg_time_spent</th>\n      <th>avg_transaction_value</th>\n      <th>avg_frequency_login_days</th>\n      <th>points_in_wallet</th>\n      <th>used_special_discount</th>\n      <th>offer_application_preference</th>\n      <th>past_complaint</th>\n      <th>complaint_status</th>\n      <th>feedback</th>\n      <th>churn_risk_score</th>\n    </tr>\n  </thead>\n  <tbody>\n    <tr>\n      <th>3621</th>\n      <td>fffe43004900440036003200320037003900</td>\n      <td>Alyson Ericksen</td>\n      <td>43</td>\n      <td>F</td>\n      <td>2HGN2O3</td>\n      <td>City</td>\n      <td>Premium Membership</td>\n      <td>2015-10-17</td>\n      <td>Yes</td>\n      <td>CID57870</td>\n      <td>...</td>\n      <td>177.630000</td>\n      <td>12713.56</td>\n      <td>13.0</td>\n      <td>760.620000</td>\n      <td>Yes</td>\n      <td>No</td>\n      <td>No</td>\n      <td>Not Applicable</td>\n      <td>Poor Product Quality</td>\n      <td>3</td>\n    </tr>\n    <tr>\n      <th>25815</th>\n      <td>fffe43004900440035003400330033003800</td>\n      <td>Candy Mast</td>\n      <td>19</td>\n      <td>F</td>\n      <td>KDU0Q48</td>\n      <td>Town</td>\n      <td>Basic Membership</td>\n      <td>2016-10-29</td>\n      <td>?</td>\n      <td>CID22363</td>\n      <td>...</td>\n      <td>481.410000</td>\n      <td>43802.98</td>\n      <td>21.0</td>\n      <td>1141.957842</td>\n      <td>No</td>\n      <td>Yes</td>\n      <td>Yes</td>\n      <td>No Information Available</td>\n      <td>Poor Product Quality</td>\n      <td>5</td>\n    </tr>\n    <tr>\n      <th>36089</th>\n      <td>fffe43004900440035003900300035003000</td>\n      <td>Antonio Bodine</td>\n      <td>40</td>\n      <td>M</td>\n      <td>MWKSLB6</td>\n      <td>Town</td>\n      <td>No Membership</td>\n      <td>2017-10-07</td>\n      <td>?</td>\n      <td>CID42765</td>\n      <td>...</td>\n      <td>641.690000</td>\n      <td>33666.00</td>\n      <td>18.0</td>\n      <td>557.476478</td>\n      <td>Yes</td>\n      <td>No</td>\n      <td>No</td>\n      <td>Not Applicable</td>\n      <td>Poor Website</td>\n      <td>5</td>\n    </tr>\n    <tr>\n      <th>30114</th>\n      <td>fffe43004900440034003300390033003100</td>\n      <td>Luetta Hullinger</td>\n      <td>12</td>\n      <td>F</td>\n      <td>NYP25LP</td>\n      <td>City</td>\n      <td>Gold Membership</td>\n      <td>2017-03-31</td>\n      <td>No</td>\n      <td>xxxxxxxx</td>\n      <td>...</td>\n      <td>363.420000</td>\n      <td>29077.92</td>\n      <td>27.0</td>\n      <td>NaN</td>\n      <td>Yes</td>\n      <td>Yes</td>\n      <td>Yes</td>\n      <td>Unsolved</td>\n      <td>Poor Product Quality</td>\n      <td>3</td>\n    </tr>\n    <tr>\n      <th>15505</th>\n      <td>fffe43004900440031003500390032003900</td>\n      <td>Samantha Ellenwood</td>\n      <td>58</td>\n      <td>M</td>\n      <td>3IO2WV9</td>\n      <td>Village</td>\n      <td>Basic Membership</td>\n      <td>2016-12-22</td>\n      <td>Yes</td>\n      <td>CID26206</td>\n      <td>...</td>\n      <td>1614.849289</td>\n      <td>40418.49</td>\n      <td>21.0</td>\n      <td>139.185375</td>\n      <td>Yes</td>\n      <td>No</td>\n      <td>Yes</td>\n      <td>Solved in Follow-up</td>\n      <td>Too many ads</td>\n      <td>5</td>\n    </tr>\n  </tbody>\n</table>\n<p>5 rows × 25 columns</p>\n</div>"
     },
     "metadata": {},
     "execution_count": 47
    }
   ],
   "source": [
    "train.sample(5)\n"
   ]
  },
  {
   "cell_type": "code",
   "execution_count": 48,
   "metadata": {},
   "outputs": [
    {
     "output_type": "stream",
     "name": "stdout",
     "text": [
      "<class 'pandas.core.frame.DataFrame'>\nRangeIndex: 36992 entries, 0 to 36991\nData columns (total 25 columns):\n #   Column                        Non-Null Count  Dtype  \n---  ------                        --------------  -----  \n 0   customer_id                   36992 non-null  object \n 1   Name                          36992 non-null  object \n 2   age                           36992 non-null  int64  \n 3   gender                        36992 non-null  object \n 4   security_no                   36992 non-null  object \n 5   region_category               31564 non-null  object \n 6   membership_category           36992 non-null  object \n 7   joining_date                  36992 non-null  object \n 8   joined_through_referral       36992 non-null  object \n 9   referral_id                   36992 non-null  object \n 10  preferred_offer_types         36704 non-null  object \n 11  medium_of_operation           36992 non-null  object \n 12  internet_option               36992 non-null  object \n 13  last_visit_time               36992 non-null  object \n 14  days_since_last_login         36992 non-null  int64  \n 15  avg_time_spent                36992 non-null  float64\n 16  avg_transaction_value         36992 non-null  float64\n 17  avg_frequency_login_days      36992 non-null  object \n 18  points_in_wallet              33549 non-null  float64\n 19  used_special_discount         36992 non-null  object \n 20  offer_application_preference  36992 non-null  object \n 21  past_complaint                36992 non-null  object \n 22  complaint_status              36992 non-null  object \n 23  feedback                      36992 non-null  object \n 24  churn_risk_score              36992 non-null  int64  \ndtypes: float64(3), int64(3), object(19)\nmemory usage: 7.1+ MB\n"
     ]
    }
   ],
   "source": [
    "train.info()"
   ]
  },
  {
   "source": [
    "**About Features**\n",
    "- *customer_id* - Represents the unique identification number of a customer\n",
    "\n",
    "- *Name* - Represents the name of a customer\n",
    "\n",
    "- *age - Represents the age of a customer\n",
    "\n",
    "- *security_no* - Represents a unique security number that is used to identify a person\n",
    "\n",
    "- *region_category* - Represents the region that a customer belongs to\n",
    "\n",
    "- *membership_category* - Represents the category of the membership that a customer is using\n",
    "\n",
    "- *joining_date* - Represents the date when a customer became a member\n",
    "\n",
    "- *joined_through_referral* - Represents whether a customer joined using any referral code or ID\n",
    "\n",
    "- *referral_id* - Represents a referral ID\n",
    "\n",
    "- *preferred_offer_types* - Represents the type of offer that a customer prefers\n",
    "\n",
    "- *medium_of_operation* - Represents the medium of operation that a customer uses for transactions\n",
    "\n",
    "- *internet_option* - Represents the type of internet service a customer uses\n",
    "\n",
    "- *last_visit_time* - Represents the last time a customer visited the website\n",
    "\n",
    "- *days_since_last_login* - Represents the no. of days since a customer last logged into the website\n",
    "\n",
    "- *avg_time_spent* - Represents the average time spent by a customer on the website\n",
    "\n",
    "- *avg_transaction_value* - Represents the average transaction value of a customer\n",
    "\n",
    "- *avg_frequency_login_days* - Represents the no. of times a customer has logged in to the website\n",
    "\n",
    "- *points_in_wallet* - Represents the points awarded to a customer on each transaction\n",
    "\n",
    "- *used_special_discount* - Represents whether a customer uses special discounts offered\n",
    "\n",
    "- *offer_application_preference* - Represents whether a customer prefers offers\n",
    "\n",
    "- *past_complaint* - Represents whether a customer has raised any complaints\n",
    "\n",
    "- *complaint_status* - Represents whether the complaints raised by a customer was resolved\n",
    "\n",
    "- *feedback* - Represents the feedback provided by a customer\n",
    "\n",
    "- *churn_risk_score* - Represents the churn risk score that ranges from 1 to 5"
   ],
   "cell_type": "markdown",
   "metadata": {}
  },
  {
   "source": [
    "## Basic Statistics and Data wrangling"
   ],
   "cell_type": "markdown",
   "metadata": {}
  },
  {
   "cell_type": "code",
   "execution_count": 49,
   "metadata": {},
   "outputs": [
    {
     "output_type": "execute_result",
     "data": {
      "text/plain": [
       "                age  days_since_last_login  avg_time_spent  \\\n",
       "count  36992.000000           36992.000000    36992.000000   \n",
       "mean      37.118161             -41.915576      243.472334   \n",
       "std       15.867412             228.819900      398.289149   \n",
       "min       10.000000            -999.000000    -2814.109110   \n",
       "25%       23.000000               8.000000       60.102500   \n",
       "50%       37.000000              12.000000      161.765000   \n",
       "75%       51.000000              16.000000      356.515000   \n",
       "max       64.000000              26.000000     3235.578521   \n",
       "\n",
       "       avg_transaction_value  points_in_wallet  churn_risk_score  \n",
       "count           36992.000000      33549.000000      36992.000000  \n",
       "mean            29271.194003        686.882199          3.463397  \n",
       "std             19444.806226        194.063624          1.409661  \n",
       "min               800.460000       -760.661236         -1.000000  \n",
       "25%             14177.540000        616.150000          3.000000  \n",
       "50%             27554.485000        697.620000          4.000000  \n",
       "75%             40855.110000        763.950000          5.000000  \n",
       "max             99914.050000       2069.069761          5.000000  "
      ],
      "text/html": "<div>\n<style scoped>\n    .dataframe tbody tr th:only-of-type {\n        vertical-align: middle;\n    }\n\n    .dataframe tbody tr th {\n        vertical-align: top;\n    }\n\n    .dataframe thead th {\n        text-align: right;\n    }\n</style>\n<table border=\"1\" class=\"dataframe\">\n  <thead>\n    <tr style=\"text-align: right;\">\n      <th></th>\n      <th>age</th>\n      <th>days_since_last_login</th>\n      <th>avg_time_spent</th>\n      <th>avg_transaction_value</th>\n      <th>points_in_wallet</th>\n      <th>churn_risk_score</th>\n    </tr>\n  </thead>\n  <tbody>\n    <tr>\n      <th>count</th>\n      <td>36992.000000</td>\n      <td>36992.000000</td>\n      <td>36992.000000</td>\n      <td>36992.000000</td>\n      <td>33549.000000</td>\n      <td>36992.000000</td>\n    </tr>\n    <tr>\n      <th>mean</th>\n      <td>37.118161</td>\n      <td>-41.915576</td>\n      <td>243.472334</td>\n      <td>29271.194003</td>\n      <td>686.882199</td>\n      <td>3.463397</td>\n    </tr>\n    <tr>\n      <th>std</th>\n      <td>15.867412</td>\n      <td>228.819900</td>\n      <td>398.289149</td>\n      <td>19444.806226</td>\n      <td>194.063624</td>\n      <td>1.409661</td>\n    </tr>\n    <tr>\n      <th>min</th>\n      <td>10.000000</td>\n      <td>-999.000000</td>\n      <td>-2814.109110</td>\n      <td>800.460000</td>\n      <td>-760.661236</td>\n      <td>-1.000000</td>\n    </tr>\n    <tr>\n      <th>25%</th>\n      <td>23.000000</td>\n      <td>8.000000</td>\n      <td>60.102500</td>\n      <td>14177.540000</td>\n      <td>616.150000</td>\n      <td>3.000000</td>\n    </tr>\n    <tr>\n      <th>50%</th>\n      <td>37.000000</td>\n      <td>12.000000</td>\n      <td>161.765000</td>\n      <td>27554.485000</td>\n      <td>697.620000</td>\n      <td>4.000000</td>\n    </tr>\n    <tr>\n      <th>75%</th>\n      <td>51.000000</td>\n      <td>16.000000</td>\n      <td>356.515000</td>\n      <td>40855.110000</td>\n      <td>763.950000</td>\n      <td>5.000000</td>\n    </tr>\n    <tr>\n      <th>max</th>\n      <td>64.000000</td>\n      <td>26.000000</td>\n      <td>3235.578521</td>\n      <td>99914.050000</td>\n      <td>2069.069761</td>\n      <td>5.000000</td>\n    </tr>\n  </tbody>\n</table>\n</div>"
     },
     "metadata": {},
     "execution_count": 49
    }
   ],
   "source": [
    "train.describe()\n"
   ]
  },
  {
   "source": [
    "### About Data\n",
    "- Most of the people have age around 37.\n",
    "- As time can not be negative so negative values in column \"days_since_last_login\",\"avg_time_spent\" are outliers.\n",
    "- Similarly acc. balance can not be negative but in \"points_in_wallet\" column have and can be considers as outlier.\n",
    "- churn_risk_score is out target column and it contain negative value which may be missrecorded observation. "
   ],
   "cell_type": "markdown",
   "metadata": {}
  },
  {
   "source": [
    "## Finding null values if any"
   ],
   "cell_type": "markdown",
   "metadata": {}
  },
  {
   "cell_type": "code",
   "execution_count": 50,
   "metadata": {},
   "outputs": [
    {
     "output_type": "execute_result",
     "data": {
      "text/plain": [
       "customer_id                        0\n",
       "Name                               0\n",
       "age                                0\n",
       "gender                             0\n",
       "security_no                        0\n",
       "region_category                 5428\n",
       "membership_category                0\n",
       "joining_date                       0\n",
       "joined_through_referral            0\n",
       "referral_id                        0\n",
       "preferred_offer_types            288\n",
       "medium_of_operation                0\n",
       "internet_option                    0\n",
       "last_visit_time                    0\n",
       "days_since_last_login              0\n",
       "avg_time_spent                     0\n",
       "avg_transaction_value              0\n",
       "avg_frequency_login_days           0\n",
       "points_in_wallet                3443\n",
       "used_special_discount              0\n",
       "offer_application_preference       0\n",
       "past_complaint                     0\n",
       "complaint_status                   0\n",
       "feedback                           0\n",
       "churn_risk_score                   0\n",
       "dtype: int64"
      ]
     },
     "metadata": {},
     "execution_count": 50
    }
   ],
   "source": [
    "train.isnull().sum()"
   ]
  },
  {
   "cell_type": "code",
   "execution_count": 51,
   "metadata": {},
   "outputs": [
    {
     "output_type": "stream",
     "name": "stdout",
     "text": [
      "Percent of data that is missing from train data:- 0.9903762975778546\nPercent of data that is missing from test data:- 1.0605452080927757\n"
     ]
    }
   ],
   "source": [
    "# Percentage of missing data\n",
    "def percent_missing(df):\n",
    "    missing_values_count = df.isnull().sum()\n",
    "    total_cells=np.product(df.shape)\n",
    "    total_missing=missing_values_count.sum()\n",
    "    return (total_missing/total_cells)*100\n",
    "\n",
    "print('Percent of data that is missing from train data:-',percent_missing(train))\n",
    "print('Percent of data that is missing from test data:-',percent_missing(test))\n",
    "\n"
   ]
  },
  {
   "cell_type": "code",
   "execution_count": 52,
   "metadata": {},
   "outputs": [],
   "source": [
    "# Seprating features\n",
    "def features(df):\n",
    "    return df.select_dtypes(include=np.number).columns.tolist(),df.select_dtypes(exclude=np.number).columns.tolist()\n",
    "\n"
   ]
  },
  {
   "cell_type": "code",
   "execution_count": 53,
   "metadata": {},
   "outputs": [],
   "source": [
    "def preprocessing(df):\n",
    "    df.gender = df.gender.replace('Unknown', np.nan)\n",
    "    df.joined_through_referral = df.joined_through_referral.replace('?', np.nan)\n",
    "    df.medium_of_operation = df.medium_of_operation.replace('?', np.nan)\n",
    "\n",
    "    df.region_category.fillna('Village', axis=0, inplace=True)\n",
    "    df.preferred_offer_types.fillna(df.preferred_offer_types.mode()[0], axis=0, inplace=True)\n",
    "    df.points_in_wallet.fillna(value=df.points_in_wallet.median(), axis=0, inplace=True)\n",
    "    df.gender.fillna(df.gender.mode()[0], axis=0, inplace=True)\n",
    "    df.joined_through_referral.fillna(df.joined_through_referral.mode()[0], axis=0, inplace=True)\n",
    "    df.medium_of_operation.fillna('Both', axis=0, inplace=True)\n",
    "\n",
    "    df['avg_frequency_login_days'] = df['avg_frequency_login_days'].apply(lambda x: 0 if x == 'Error' else x)\n",
    "    df['avg_frequency_login_days'] = pd.to_numeric(df['avg_frequency_login_days'])\n",
    "    df['avg_frequency_login_days'] = df['avg_frequency_login_days'].apply(lambda x: 0 if x < 0 else x)\n",
    "    df['avg_transaction_value'] = df['avg_transaction_value'].apply(lambda x: 0 if x < 0 else x)\n",
    "    df['days_since_last_login'] = df['days_since_last_login'].apply(lambda x: 0 if x < 0 else x)\n",
    "    df['avg_frequency_login_days'] = df['avg_frequency_login_days'].apply(lambda x: 0 if x < 0 else x)\n",
    "    df['membership_by_refer_id_min'] = df.groupby('referral_id')['membership_category'].transform('min')\n",
    "    df['membership_by_refer_id_max'] = df.groupby('referral_id')['membership_category'].transform('max')\n",
    "    return df"
   ]
  },
  {
   "cell_type": "code",
   "execution_count": 54,
   "metadata": {},
   "outputs": [],
   "source": [
    "train=preprocessing(train)\n",
    "test=preprocessing(test)"
   ]
  },
  {
   "cell_type": "code",
   "execution_count": 55,
   "metadata": {},
   "outputs": [
    {
     "output_type": "execute_result",
     "data": {
      "text/plain": [
       "                                customer_id              Name  age gender  \\\n",
       "0          fffe4300490044003600300030003800   Pattie Morrisey   18      F   \n",
       "1      fffe43004900440032003100300035003700       Traci Peery   32      F   \n",
       "2          fffe4300490044003100390032003600   Merideth Mcmeen   44      F   \n",
       "3      fffe43004900440036003000330031003600  Eufemia Cardwell   37      M   \n",
       "4      fffe43004900440031003900350030003600      Meghan Kosak   31      F   \n",
       "...                                     ...               ...  ...    ...   \n",
       "36987  fffe43004900440035003500390036003100          Cuc Tarr   46      F   \n",
       "36988  fffe43004900440033003500380036003600    Jenni Stronach   29      F   \n",
       "36989      fffe4300490044003500330034003100     Luciana Kinch   23      F   \n",
       "36990  fffe43004900440031003200390039003000     Tawana Ardoin   53      M   \n",
       "36991  fffe43004900440033003600340034003200  Verlene Beaulieu   35      M   \n",
       "\n",
       "      security_no region_category  membership_category joining_date  \\\n",
       "0         XW0DQ7H         Village  Platinum Membership   2017-08-17   \n",
       "1         5K0N3X1            City   Premium Membership   2017-08-28   \n",
       "2         1F2TCL3            Town        No Membership   2016-11-11   \n",
       "3         VJGJ33N            City        No Membership   2016-10-29   \n",
       "4         SVZXCWB            City        No Membership   2017-09-12   \n",
       "...           ...             ...                  ...          ...   \n",
       "36987     6F51HFO         Village     Basic Membership   2017-09-21   \n",
       "36988     21KSM8Y            Town     Basic Membership   2016-06-27   \n",
       "36989     XK1IM9H         Village     Basic Membership   2016-09-11   \n",
       "36990     K6VTP1Z         Village  Platinum Membership   2017-06-15   \n",
       "36991     LBX0GLR            Town    Silver Membership   2015-10-23   \n",
       "\n",
       "      joined_through_referral referral_id  ... avg_frequency_login_days  \\\n",
       "0                          No    xxxxxxxx  ...                     17.0   \n",
       "1                          No    CID21329  ...                     10.0   \n",
       "2                         Yes    CID12313  ...                     22.0   \n",
       "3                         Yes     CID3793  ...                      6.0   \n",
       "4                          No    xxxxxxxx  ...                     16.0   \n",
       "...                       ...         ...  ...                      ...   \n",
       "36987                      No    xxxxxxxx  ...                      6.0   \n",
       "36988                      No    xxxxxxxx  ...                     28.0   \n",
       "36989                     Yes     CID3838  ...                      0.0   \n",
       "36990                      No    xxxxxxxx  ...                     20.0   \n",
       "36991                      No    xxxxxxxx  ...                      0.0   \n",
       "\n",
       "      points_in_wallet used_special_discount offer_application_preference  \\\n",
       "0           781.750000                   Yes                          Yes   \n",
       "1           697.620000                   Yes                           No   \n",
       "2           500.690000                    No                          Yes   \n",
       "3           567.660000                    No                          Yes   \n",
       "4           663.060000                    No                          Yes   \n",
       "...                ...                   ...                          ...   \n",
       "36987       639.510000                    No                          Yes   \n",
       "36988       527.990000                   Yes                           No   \n",
       "36989       680.470000                    No                          Yes   \n",
       "36990       197.264414                   Yes                          Yes   \n",
       "36991       719.970000                   Yes                           No   \n",
       "\n",
       "       past_complaint          complaint_status                  feedback  \\\n",
       "0                  No            Not Applicable  Products always in Stock   \n",
       "1                 Yes                    Solved     Quality Customer Care   \n",
       "2                 Yes       Solved in Follow-up              Poor Website   \n",
       "3                 Yes                  Unsolved              Poor Website   \n",
       "4                 Yes                    Solved              Poor Website   \n",
       "...               ...                       ...                       ...   \n",
       "36987             Yes  No Information Available       No reason specified   \n",
       "36988              No            Not Applicable     Poor Customer Service   \n",
       "36989             Yes                  Unsolved              Poor Website   \n",
       "36990              No            Not Applicable       No reason specified   \n",
       "36991              No            Not Applicable     Quality Customer Care   \n",
       "\n",
       "       churn_risk_score  membership_by_refer_id_min membership_by_refer_id_max  \n",
       "0                     2            Basic Membership          Silver Membership  \n",
       "1                     1            Basic Membership         Premium Membership  \n",
       "2                     5               No Membership        Platinum Membership  \n",
       "3                     5               No Membership              No Membership  \n",
       "4                     5            Basic Membership          Silver Membership  \n",
       "...                 ...                         ...                        ...  \n",
       "36987                 4            Basic Membership          Silver Membership  \n",
       "36988                 5            Basic Membership          Silver Membership  \n",
       "36989                 4            Basic Membership         Premium Membership  \n",
       "36990                 3            Basic Membership          Silver Membership  \n",
       "36991                 2            Basic Membership          Silver Membership  \n",
       "\n",
       "[36992 rows x 27 columns]"
      ],
      "text/html": "<div>\n<style scoped>\n    .dataframe tbody tr th:only-of-type {\n        vertical-align: middle;\n    }\n\n    .dataframe tbody tr th {\n        vertical-align: top;\n    }\n\n    .dataframe thead th {\n        text-align: right;\n    }\n</style>\n<table border=\"1\" class=\"dataframe\">\n  <thead>\n    <tr style=\"text-align: right;\">\n      <th></th>\n      <th>customer_id</th>\n      <th>Name</th>\n      <th>age</th>\n      <th>gender</th>\n      <th>security_no</th>\n      <th>region_category</th>\n      <th>membership_category</th>\n      <th>joining_date</th>\n      <th>joined_through_referral</th>\n      <th>referral_id</th>\n      <th>...</th>\n      <th>avg_frequency_login_days</th>\n      <th>points_in_wallet</th>\n      <th>used_special_discount</th>\n      <th>offer_application_preference</th>\n      <th>past_complaint</th>\n      <th>complaint_status</th>\n      <th>feedback</th>\n      <th>churn_risk_score</th>\n      <th>membership_by_refer_id_min</th>\n      <th>membership_by_refer_id_max</th>\n    </tr>\n  </thead>\n  <tbody>\n    <tr>\n      <th>0</th>\n      <td>fffe4300490044003600300030003800</td>\n      <td>Pattie Morrisey</td>\n      <td>18</td>\n      <td>F</td>\n      <td>XW0DQ7H</td>\n      <td>Village</td>\n      <td>Platinum Membership</td>\n      <td>2017-08-17</td>\n      <td>No</td>\n      <td>xxxxxxxx</td>\n      <td>...</td>\n      <td>17.0</td>\n      <td>781.750000</td>\n      <td>Yes</td>\n      <td>Yes</td>\n      <td>No</td>\n      <td>Not Applicable</td>\n      <td>Products always in Stock</td>\n      <td>2</td>\n      <td>Basic Membership</td>\n      <td>Silver Membership</td>\n    </tr>\n    <tr>\n      <th>1</th>\n      <td>fffe43004900440032003100300035003700</td>\n      <td>Traci Peery</td>\n      <td>32</td>\n      <td>F</td>\n      <td>5K0N3X1</td>\n      <td>City</td>\n      <td>Premium Membership</td>\n      <td>2017-08-28</td>\n      <td>No</td>\n      <td>CID21329</td>\n      <td>...</td>\n      <td>10.0</td>\n      <td>697.620000</td>\n      <td>Yes</td>\n      <td>No</td>\n      <td>Yes</td>\n      <td>Solved</td>\n      <td>Quality Customer Care</td>\n      <td>1</td>\n      <td>Basic Membership</td>\n      <td>Premium Membership</td>\n    </tr>\n    <tr>\n      <th>2</th>\n      <td>fffe4300490044003100390032003600</td>\n      <td>Merideth Mcmeen</td>\n      <td>44</td>\n      <td>F</td>\n      <td>1F2TCL3</td>\n      <td>Town</td>\n      <td>No Membership</td>\n      <td>2016-11-11</td>\n      <td>Yes</td>\n      <td>CID12313</td>\n      <td>...</td>\n      <td>22.0</td>\n      <td>500.690000</td>\n      <td>No</td>\n      <td>Yes</td>\n      <td>Yes</td>\n      <td>Solved in Follow-up</td>\n      <td>Poor Website</td>\n      <td>5</td>\n      <td>No Membership</td>\n      <td>Platinum Membership</td>\n    </tr>\n    <tr>\n      <th>3</th>\n      <td>fffe43004900440036003000330031003600</td>\n      <td>Eufemia Cardwell</td>\n      <td>37</td>\n      <td>M</td>\n      <td>VJGJ33N</td>\n      <td>City</td>\n      <td>No Membership</td>\n      <td>2016-10-29</td>\n      <td>Yes</td>\n      <td>CID3793</td>\n      <td>...</td>\n      <td>6.0</td>\n      <td>567.660000</td>\n      <td>No</td>\n      <td>Yes</td>\n      <td>Yes</td>\n      <td>Unsolved</td>\n      <td>Poor Website</td>\n      <td>5</td>\n      <td>No Membership</td>\n      <td>No Membership</td>\n    </tr>\n    <tr>\n      <th>4</th>\n      <td>fffe43004900440031003900350030003600</td>\n      <td>Meghan Kosak</td>\n      <td>31</td>\n      <td>F</td>\n      <td>SVZXCWB</td>\n      <td>City</td>\n      <td>No Membership</td>\n      <td>2017-09-12</td>\n      <td>No</td>\n      <td>xxxxxxxx</td>\n      <td>...</td>\n      <td>16.0</td>\n      <td>663.060000</td>\n      <td>No</td>\n      <td>Yes</td>\n      <td>Yes</td>\n      <td>Solved</td>\n      <td>Poor Website</td>\n      <td>5</td>\n      <td>Basic Membership</td>\n      <td>Silver Membership</td>\n    </tr>\n    <tr>\n      <th>...</th>\n      <td>...</td>\n      <td>...</td>\n      <td>...</td>\n      <td>...</td>\n      <td>...</td>\n      <td>...</td>\n      <td>...</td>\n      <td>...</td>\n      <td>...</td>\n      <td>...</td>\n      <td>...</td>\n      <td>...</td>\n      <td>...</td>\n      <td>...</td>\n      <td>...</td>\n      <td>...</td>\n      <td>...</td>\n      <td>...</td>\n      <td>...</td>\n      <td>...</td>\n      <td>...</td>\n    </tr>\n    <tr>\n      <th>36987</th>\n      <td>fffe43004900440035003500390036003100</td>\n      <td>Cuc Tarr</td>\n      <td>46</td>\n      <td>F</td>\n      <td>6F51HFO</td>\n      <td>Village</td>\n      <td>Basic Membership</td>\n      <td>2017-09-21</td>\n      <td>No</td>\n      <td>xxxxxxxx</td>\n      <td>...</td>\n      <td>6.0</td>\n      <td>639.510000</td>\n      <td>No</td>\n      <td>Yes</td>\n      <td>Yes</td>\n      <td>No Information Available</td>\n      <td>No reason specified</td>\n      <td>4</td>\n      <td>Basic Membership</td>\n      <td>Silver Membership</td>\n    </tr>\n    <tr>\n      <th>36988</th>\n      <td>fffe43004900440033003500380036003600</td>\n      <td>Jenni Stronach</td>\n      <td>29</td>\n      <td>F</td>\n      <td>21KSM8Y</td>\n      <td>Town</td>\n      <td>Basic Membership</td>\n      <td>2016-06-27</td>\n      <td>No</td>\n      <td>xxxxxxxx</td>\n      <td>...</td>\n      <td>28.0</td>\n      <td>527.990000</td>\n      <td>Yes</td>\n      <td>No</td>\n      <td>No</td>\n      <td>Not Applicable</td>\n      <td>Poor Customer Service</td>\n      <td>5</td>\n      <td>Basic Membership</td>\n      <td>Silver Membership</td>\n    </tr>\n    <tr>\n      <th>36989</th>\n      <td>fffe4300490044003500330034003100</td>\n      <td>Luciana Kinch</td>\n      <td>23</td>\n      <td>F</td>\n      <td>XK1IM9H</td>\n      <td>Village</td>\n      <td>Basic Membership</td>\n      <td>2016-09-11</td>\n      <td>Yes</td>\n      <td>CID3838</td>\n      <td>...</td>\n      <td>0.0</td>\n      <td>680.470000</td>\n      <td>No</td>\n      <td>Yes</td>\n      <td>Yes</td>\n      <td>Unsolved</td>\n      <td>Poor Website</td>\n      <td>4</td>\n      <td>Basic Membership</td>\n      <td>Premium Membership</td>\n    </tr>\n    <tr>\n      <th>36990</th>\n      <td>fffe43004900440031003200390039003000</td>\n      <td>Tawana Ardoin</td>\n      <td>53</td>\n      <td>M</td>\n      <td>K6VTP1Z</td>\n      <td>Village</td>\n      <td>Platinum Membership</td>\n      <td>2017-06-15</td>\n      <td>No</td>\n      <td>xxxxxxxx</td>\n      <td>...</td>\n      <td>20.0</td>\n      <td>197.264414</td>\n      <td>Yes</td>\n      <td>Yes</td>\n      <td>No</td>\n      <td>Not Applicable</td>\n      <td>No reason specified</td>\n      <td>3</td>\n      <td>Basic Membership</td>\n      <td>Silver Membership</td>\n    </tr>\n    <tr>\n      <th>36991</th>\n      <td>fffe43004900440033003600340034003200</td>\n      <td>Verlene Beaulieu</td>\n      <td>35</td>\n      <td>M</td>\n      <td>LBX0GLR</td>\n      <td>Town</td>\n      <td>Silver Membership</td>\n      <td>2015-10-23</td>\n      <td>No</td>\n      <td>xxxxxxxx</td>\n      <td>...</td>\n      <td>0.0</td>\n      <td>719.970000</td>\n      <td>Yes</td>\n      <td>No</td>\n      <td>No</td>\n      <td>Not Applicable</td>\n      <td>Quality Customer Care</td>\n      <td>2</td>\n      <td>Basic Membership</td>\n      <td>Silver Membership</td>\n    </tr>\n  </tbody>\n</table>\n<p>36992 rows × 27 columns</p>\n</div>"
     },
     "metadata": {},
     "execution_count": 55
    }
   ],
   "source": [
    "train"
   ]
  },
  {
   "cell_type": "code",
   "execution_count": 56,
   "metadata": {},
   "outputs": [],
   "source": [
    "numerics_features,categorical_features=features(train)\n"
   ]
  },
  {
   "cell_type": "code",
   "execution_count": 123,
   "metadata": {},
   "outputs": [
    {
     "output_type": "execute_result",
     "data": {
      "text/plain": [
       "['age',\n",
       " 'days_since_last_login',\n",
       " 'avg_time_spent',\n",
       " 'avg_transaction_value',\n",
       " 'avg_frequency_login_days',\n",
       " 'points_in_wallet',\n",
       " 'churn_risk_score',\n",
       " 'day',\n",
       " 'year',\n",
       " 'month',\n",
       " 'visiting_hour',\n",
       " 'visiting_min',\n",
       " 'visiting_sec',\n",
       " 'first_name',\n",
       " 'hours_since_last_login',\n",
       " 'actual_time_spent',\n",
       " 'customer_by_membership',\n",
       " 'points_by_Name',\n",
       " 'avg_trans_by_security_no',\n",
       " 'trans_points_add',\n",
       " 'trans_points_sub']"
      ]
     },
     "metadata": {},
     "execution_count": 123
    }
   ],
   "source": []
  },
  {
   "cell_type": "code",
   "execution_count": 57,
   "metadata": {},
   "outputs": [
    {
     "output_type": "execute_result",
     "data": {
      "text/plain": [
       "       age  days_since_last_login  avg_time_spent  avg_transaction_value  \\\n",
       "0       18                     17          300.63               53005.25   \n",
       "1       32                     16          306.34               12838.38   \n",
       "2       44                     14          516.16               21027.00   \n",
       "3       37                     11           53.27               25239.56   \n",
       "4       31                     20          113.13               24483.66   \n",
       "...    ...                    ...             ...                    ...   \n",
       "36983   45                      9           49.33               45358.49   \n",
       "36984   51                     24          312.33               63446.71   \n",
       "36985   12                     13          418.38               56397.21   \n",
       "36986   27                     13          135.83                8225.68   \n",
       "36990   53                     15          482.61                2378.86   \n",
       "\n",
       "       avg_frequency_login_days  points_in_wallet  churn_risk_score  \n",
       "0                          17.0        781.750000                 2  \n",
       "1                          10.0        697.620000                 1  \n",
       "2                          22.0        500.690000                 5  \n",
       "3                           6.0        567.660000                 5  \n",
       "4                          16.0        663.060000                 5  \n",
       "...                         ...               ...               ...  \n",
       "36983                      11.0        242.979625                 5  \n",
       "36984                       2.0        778.700000                 1  \n",
       "36985                       7.0        725.890000                 2  \n",
       "36986                      16.0        748.570000                 3  \n",
       "36990                      20.0        197.264414                 3  \n",
       "\n",
       "[28557 rows x 7 columns]"
      ],
      "text/html": "<div>\n<style scoped>\n    .dataframe tbody tr th:only-of-type {\n        vertical-align: middle;\n    }\n\n    .dataframe tbody tr th {\n        vertical-align: top;\n    }\n\n    .dataframe thead th {\n        text-align: right;\n    }\n</style>\n<table border=\"1\" class=\"dataframe\">\n  <thead>\n    <tr style=\"text-align: right;\">\n      <th></th>\n      <th>age</th>\n      <th>days_since_last_login</th>\n      <th>avg_time_spent</th>\n      <th>avg_transaction_value</th>\n      <th>avg_frequency_login_days</th>\n      <th>points_in_wallet</th>\n      <th>churn_risk_score</th>\n    </tr>\n  </thead>\n  <tbody>\n    <tr>\n      <th>0</th>\n      <td>18</td>\n      <td>17</td>\n      <td>300.63</td>\n      <td>53005.25</td>\n      <td>17.0</td>\n      <td>781.750000</td>\n      <td>2</td>\n    </tr>\n    <tr>\n      <th>1</th>\n      <td>32</td>\n      <td>16</td>\n      <td>306.34</td>\n      <td>12838.38</td>\n      <td>10.0</td>\n      <td>697.620000</td>\n      <td>1</td>\n    </tr>\n    <tr>\n      <th>2</th>\n      <td>44</td>\n      <td>14</td>\n      <td>516.16</td>\n      <td>21027.00</td>\n      <td>22.0</td>\n      <td>500.690000</td>\n      <td>5</td>\n    </tr>\n    <tr>\n      <th>3</th>\n      <td>37</td>\n      <td>11</td>\n      <td>53.27</td>\n      <td>25239.56</td>\n      <td>6.0</td>\n      <td>567.660000</td>\n      <td>5</td>\n    </tr>\n    <tr>\n      <th>4</th>\n      <td>31</td>\n      <td>20</td>\n      <td>113.13</td>\n      <td>24483.66</td>\n      <td>16.0</td>\n      <td>663.060000</td>\n      <td>5</td>\n    </tr>\n    <tr>\n      <th>...</th>\n      <td>...</td>\n      <td>...</td>\n      <td>...</td>\n      <td>...</td>\n      <td>...</td>\n      <td>...</td>\n      <td>...</td>\n    </tr>\n    <tr>\n      <th>36983</th>\n      <td>45</td>\n      <td>9</td>\n      <td>49.33</td>\n      <td>45358.49</td>\n      <td>11.0</td>\n      <td>242.979625</td>\n      <td>5</td>\n    </tr>\n    <tr>\n      <th>36984</th>\n      <td>51</td>\n      <td>24</td>\n      <td>312.33</td>\n      <td>63446.71</td>\n      <td>2.0</td>\n      <td>778.700000</td>\n      <td>1</td>\n    </tr>\n    <tr>\n      <th>36985</th>\n      <td>12</td>\n      <td>13</td>\n      <td>418.38</td>\n      <td>56397.21</td>\n      <td>7.0</td>\n      <td>725.890000</td>\n      <td>2</td>\n    </tr>\n    <tr>\n      <th>36986</th>\n      <td>27</td>\n      <td>13</td>\n      <td>135.83</td>\n      <td>8225.68</td>\n      <td>16.0</td>\n      <td>748.570000</td>\n      <td>3</td>\n    </tr>\n    <tr>\n      <th>36990</th>\n      <td>53</td>\n      <td>15</td>\n      <td>482.61</td>\n      <td>2378.86</td>\n      <td>20.0</td>\n      <td>197.264414</td>\n      <td>3</td>\n    </tr>\n  </tbody>\n</table>\n<p>28557 rows × 7 columns</p>\n</div>"
     },
     "metadata": {},
     "execution_count": 57
    }
   ],
   "source": [
    "# Finding column tha have negative values\n",
    "def egn(df):\n",
    "    # reemoving negative values\n",
    "    return df[(df[numerics_features] > 0).all(1)]\n",
    "egn(train[numerics_features])"
   ]
  },
  {
   "cell_type": "code",
   "execution_count": 58,
   "metadata": {},
   "outputs": [],
   "source": [
    "# all unique values\n",
    "def finding_uniques(df,feature):\n",
    "    \"\"\"\n",
    "    finding all the unique elements and ploting them\n",
    "    \"\"\"\n",
    "    return df[feature].value_counts(),sns.countplot(df[feature], hue = df['churn_risk_score'])"
   ]
  },
  {
   "cell_type": "code",
   "execution_count": 59,
   "metadata": {},
   "outputs": [
    {
     "output_type": "execute_result",
     "data": {
      "text/plain": [
       "customer_id                     0\n",
       "Name                            0\n",
       "age                             0\n",
       "gender                          0\n",
       "security_no                     0\n",
       "region_category                 0\n",
       "membership_category             0\n",
       "joining_date                    0\n",
       "joined_through_referral         0\n",
       "referral_id                     0\n",
       "preferred_offer_types           0\n",
       "medium_of_operation             0\n",
       "internet_option                 0\n",
       "last_visit_time                 0\n",
       "days_since_last_login           0\n",
       "avg_time_spent                  0\n",
       "avg_transaction_value           0\n",
       "avg_frequency_login_days        0\n",
       "points_in_wallet                0\n",
       "used_special_discount           0\n",
       "offer_application_preference    0\n",
       "past_complaint                  0\n",
       "complaint_status                0\n",
       "feedback                        0\n",
       "churn_risk_score                0\n",
       "membership_by_refer_id_min      0\n",
       "membership_by_refer_id_max      0\n",
       "dtype: int64"
      ]
     },
     "metadata": {},
     "execution_count": 59
    }
   ],
   "source": [
    "train.isna().sum()"
   ]
  },
  {
   "source": [
    "# Creating features\n"
   ],
   "cell_type": "markdown",
   "metadata": {}
  },
  {
   "cell_type": "code",
   "execution_count": 60,
   "metadata": {},
   "outputs": [],
   "source": [
    "def feature_engg(df):\n",
    "    df['joining_date'] = pd.to_datetime(df['joining_date'], format='%Y-%m-%d')\n",
    "    df['day'] = df['joining_date'].dt.day\n",
    "    df['year'] = df['joining_date'].dt.year\n",
    "    df['month'] = df['joining_date'].dt.month\n",
    "    df = df.drop('joining_date', axis=1)\n",
    "\n",
    "    df['last_visit_time'] = pd.to_datetime(df['last_visit_time'], format='%H:%M:%S')\n",
    "    df['visiting_hour'] = df['last_visit_time'].dt.hour\n",
    "    df['visiting_min'] = df['last_visit_time'].dt.minute\n",
    "    df['visiting_sec'] = df['last_visit_time'].dt.second\n",
    "    df = df.drop('last_visit_time', axis=1)\n",
    "\n",
    "    df['first_name'] = df.Name.str.split(' ', expand=True)[0]\n",
    "    naming = df.first_name.value_counts(normalize=True).to_dict()\n",
    "    df.first_name = df.first_name.map(naming)\n",
    "    df['hours_since_last_login'] = df.days_since_last_login * 24\n",
    "    df['actual_time_spent'] = df.avg_time_spent - df.visiting_sec\n",
    "\n",
    "    df['customer_by_membership'] = df.groupby('membership_category')['customer_id'].transform('count')\n",
    "    df['points_by_Name'] = df.groupby('points_in_wallet')['Name'].transform('count')\n",
    "    df['avg_trans_by_security_no'] = df.groupby('avg_frequency_login_days')['security_no'].transform('count')\n",
    "\n",
    "    df['trans_points_add'] = df['avg_transaction_value'] + df['points_in_wallet']\n",
    "    df['trans_points_sub'] = df['avg_transaction_value'] - df['points_in_wallet']\n",
    "    return df\n",
    "\n"
   ]
  },
  {
   "cell_type": "code",
   "execution_count": 61,
   "metadata": {},
   "outputs": [],
   "source": [
    "train=feature_engg(train)\n",
    "test=feature_engg(test)"
   ]
  },
  {
   "cell_type": "code",
   "execution_count": 62,
   "metadata": {},
   "outputs": [
    {
     "output_type": "execute_result",
     "data": {
      "text/plain": [
       "                                customer_id              Name  age gender  \\\n",
       "0          fffe4300490044003600300030003800   Pattie Morrisey   18      F   \n",
       "1      fffe43004900440032003100300035003700       Traci Peery   32      F   \n",
       "2          fffe4300490044003100390032003600   Merideth Mcmeen   44      F   \n",
       "3      fffe43004900440036003000330031003600  Eufemia Cardwell   37      M   \n",
       "4      fffe43004900440031003900350030003600      Meghan Kosak   31      F   \n",
       "...                                     ...               ...  ...    ...   \n",
       "36987  fffe43004900440035003500390036003100          Cuc Tarr   46      F   \n",
       "36988  fffe43004900440033003500380036003600    Jenni Stronach   29      F   \n",
       "36989      fffe4300490044003500330034003100     Luciana Kinch   23      F   \n",
       "36990  fffe43004900440031003200390039003000     Tawana Ardoin   53      M   \n",
       "36991  fffe43004900440033003600340034003200  Verlene Beaulieu   35      M   \n",
       "\n",
       "      security_no region_category  membership_category  \\\n",
       "0         XW0DQ7H         Village  Platinum Membership   \n",
       "1         5K0N3X1            City   Premium Membership   \n",
       "2         1F2TCL3            Town        No Membership   \n",
       "3         VJGJ33N            City        No Membership   \n",
       "4         SVZXCWB            City        No Membership   \n",
       "...           ...             ...                  ...   \n",
       "36987     6F51HFO         Village     Basic Membership   \n",
       "36988     21KSM8Y            Town     Basic Membership   \n",
       "36989     XK1IM9H         Village     Basic Membership   \n",
       "36990     K6VTP1Z         Village  Platinum Membership   \n",
       "36991     LBX0GLR            Town    Silver Membership   \n",
       "\n",
       "      joined_through_referral referral_id     preferred_offer_types  ...  \\\n",
       "0                          No    xxxxxxxx     Gift Vouchers/Coupons  ...   \n",
       "1                          No    CID21329     Gift Vouchers/Coupons  ...   \n",
       "2                         Yes    CID12313     Gift Vouchers/Coupons  ...   \n",
       "3                         Yes     CID3793     Gift Vouchers/Coupons  ...   \n",
       "4                          No    xxxxxxxx  Credit/Debit Card Offers  ...   \n",
       "...                       ...         ...                       ...  ...   \n",
       "36987                      No    xxxxxxxx  Credit/Debit Card Offers  ...   \n",
       "36988                      No    xxxxxxxx            Without Offers  ...   \n",
       "36989                     Yes     CID3838     Gift Vouchers/Coupons  ...   \n",
       "36990                      No    xxxxxxxx     Gift Vouchers/Coupons  ...   \n",
       "36991                      No    xxxxxxxx     Gift Vouchers/Coupons  ...   \n",
       "\n",
       "      visiting_min visiting_sec  first_name  hours_since_last_login  \\\n",
       "0                8            2    0.002379                     408   \n",
       "1               38           13    0.001919                     384   \n",
       "2               53           21    0.002730                     336   \n",
       "3               57           50    0.000622                     264   \n",
       "4               46           44    0.002217                     480   \n",
       "...            ...          ...         ...                     ...   \n",
       "36987           14            5    0.002622                      48   \n",
       "36988           18           31    0.002974                     312   \n",
       "36989           50           25    0.002082                     288   \n",
       "36990           50            3    0.001162                     360   \n",
       "36991           39           52    0.001811                     360   \n",
       "\n",
       "       actual_time_spent  customer_by_membership  points_by_Name  \\\n",
       "0             298.630000                    4338               1   \n",
       "1             293.340000                    4455            3446   \n",
       "2             495.160000                    7692               1   \n",
       "3               3.270000                    7692               1   \n",
       "4              69.130000                    7692               3   \n",
       "...                  ...                     ...             ...   \n",
       "36987        -655.682759                    7724               1   \n",
       "36988        -669.123421                    7724               2   \n",
       "36989         129.940000                    7724               3   \n",
       "36990         479.610000                    4338               1   \n",
       "36991          27.180000                    5988               3   \n",
       "\n",
       "      avg_trans_by_security_no trans_points_add trans_points_sub  \n",
       "0                         1349     53787.000000     52223.500000  \n",
       "1                         1334     13536.000000     12140.760000  \n",
       "2                         1054     21527.690000     20526.310000  \n",
       "3                         1336     25807.220000     24671.900000  \n",
       "4                         1319     25146.720000     23820.600000  \n",
       "...                        ...              ...              ...  \n",
       "36987                     1336     27917.190000     26638.170000  \n",
       "36988                     1107     11597.700000     10541.720000  \n",
       "36989                     4205     38808.030000     37447.090000  \n",
       "36990                     1069      2576.124414      2181.595586  \n",
       "36991                     4205      2909.650000      1469.710000  \n",
       "\n",
       "[36992 rows x 39 columns]"
      ],
      "text/html": "<div>\n<style scoped>\n    .dataframe tbody tr th:only-of-type {\n        vertical-align: middle;\n    }\n\n    .dataframe tbody tr th {\n        vertical-align: top;\n    }\n\n    .dataframe thead th {\n        text-align: right;\n    }\n</style>\n<table border=\"1\" class=\"dataframe\">\n  <thead>\n    <tr style=\"text-align: right;\">\n      <th></th>\n      <th>customer_id</th>\n      <th>Name</th>\n      <th>age</th>\n      <th>gender</th>\n      <th>security_no</th>\n      <th>region_category</th>\n      <th>membership_category</th>\n      <th>joined_through_referral</th>\n      <th>referral_id</th>\n      <th>preferred_offer_types</th>\n      <th>...</th>\n      <th>visiting_min</th>\n      <th>visiting_sec</th>\n      <th>first_name</th>\n      <th>hours_since_last_login</th>\n      <th>actual_time_spent</th>\n      <th>customer_by_membership</th>\n      <th>points_by_Name</th>\n      <th>avg_trans_by_security_no</th>\n      <th>trans_points_add</th>\n      <th>trans_points_sub</th>\n    </tr>\n  </thead>\n  <tbody>\n    <tr>\n      <th>0</th>\n      <td>fffe4300490044003600300030003800</td>\n      <td>Pattie Morrisey</td>\n      <td>18</td>\n      <td>F</td>\n      <td>XW0DQ7H</td>\n      <td>Village</td>\n      <td>Platinum Membership</td>\n      <td>No</td>\n      <td>xxxxxxxx</td>\n      <td>Gift Vouchers/Coupons</td>\n      <td>...</td>\n      <td>8</td>\n      <td>2</td>\n      <td>0.002379</td>\n      <td>408</td>\n      <td>298.630000</td>\n      <td>4338</td>\n      <td>1</td>\n      <td>1349</td>\n      <td>53787.000000</td>\n      <td>52223.500000</td>\n    </tr>\n    <tr>\n      <th>1</th>\n      <td>fffe43004900440032003100300035003700</td>\n      <td>Traci Peery</td>\n      <td>32</td>\n      <td>F</td>\n      <td>5K0N3X1</td>\n      <td>City</td>\n      <td>Premium Membership</td>\n      <td>No</td>\n      <td>CID21329</td>\n      <td>Gift Vouchers/Coupons</td>\n      <td>...</td>\n      <td>38</td>\n      <td>13</td>\n      <td>0.001919</td>\n      <td>384</td>\n      <td>293.340000</td>\n      <td>4455</td>\n      <td>3446</td>\n      <td>1334</td>\n      <td>13536.000000</td>\n      <td>12140.760000</td>\n    </tr>\n    <tr>\n      <th>2</th>\n      <td>fffe4300490044003100390032003600</td>\n      <td>Merideth Mcmeen</td>\n      <td>44</td>\n      <td>F</td>\n      <td>1F2TCL3</td>\n      <td>Town</td>\n      <td>No Membership</td>\n      <td>Yes</td>\n      <td>CID12313</td>\n      <td>Gift Vouchers/Coupons</td>\n      <td>...</td>\n      <td>53</td>\n      <td>21</td>\n      <td>0.002730</td>\n      <td>336</td>\n      <td>495.160000</td>\n      <td>7692</td>\n      <td>1</td>\n      <td>1054</td>\n      <td>21527.690000</td>\n      <td>20526.310000</td>\n    </tr>\n    <tr>\n      <th>3</th>\n      <td>fffe43004900440036003000330031003600</td>\n      <td>Eufemia Cardwell</td>\n      <td>37</td>\n      <td>M</td>\n      <td>VJGJ33N</td>\n      <td>City</td>\n      <td>No Membership</td>\n      <td>Yes</td>\n      <td>CID3793</td>\n      <td>Gift Vouchers/Coupons</td>\n      <td>...</td>\n      <td>57</td>\n      <td>50</td>\n      <td>0.000622</td>\n      <td>264</td>\n      <td>3.270000</td>\n      <td>7692</td>\n      <td>1</td>\n      <td>1336</td>\n      <td>25807.220000</td>\n      <td>24671.900000</td>\n    </tr>\n    <tr>\n      <th>4</th>\n      <td>fffe43004900440031003900350030003600</td>\n      <td>Meghan Kosak</td>\n      <td>31</td>\n      <td>F</td>\n      <td>SVZXCWB</td>\n      <td>City</td>\n      <td>No Membership</td>\n      <td>No</td>\n      <td>xxxxxxxx</td>\n      <td>Credit/Debit Card Offers</td>\n      <td>...</td>\n      <td>46</td>\n      <td>44</td>\n      <td>0.002217</td>\n      <td>480</td>\n      <td>69.130000</td>\n      <td>7692</td>\n      <td>3</td>\n      <td>1319</td>\n      <td>25146.720000</td>\n      <td>23820.600000</td>\n    </tr>\n    <tr>\n      <th>...</th>\n      <td>...</td>\n      <td>...</td>\n      <td>...</td>\n      <td>...</td>\n      <td>...</td>\n      <td>...</td>\n      <td>...</td>\n      <td>...</td>\n      <td>...</td>\n      <td>...</td>\n      <td>...</td>\n      <td>...</td>\n      <td>...</td>\n      <td>...</td>\n      <td>...</td>\n      <td>...</td>\n      <td>...</td>\n      <td>...</td>\n      <td>...</td>\n      <td>...</td>\n      <td>...</td>\n    </tr>\n    <tr>\n      <th>36987</th>\n      <td>fffe43004900440035003500390036003100</td>\n      <td>Cuc Tarr</td>\n      <td>46</td>\n      <td>F</td>\n      <td>6F51HFO</td>\n      <td>Village</td>\n      <td>Basic Membership</td>\n      <td>No</td>\n      <td>xxxxxxxx</td>\n      <td>Credit/Debit Card Offers</td>\n      <td>...</td>\n      <td>14</td>\n      <td>5</td>\n      <td>0.002622</td>\n      <td>48</td>\n      <td>-655.682759</td>\n      <td>7724</td>\n      <td>1</td>\n      <td>1336</td>\n      <td>27917.190000</td>\n      <td>26638.170000</td>\n    </tr>\n    <tr>\n      <th>36988</th>\n      <td>fffe43004900440033003500380036003600</td>\n      <td>Jenni Stronach</td>\n      <td>29</td>\n      <td>F</td>\n      <td>21KSM8Y</td>\n      <td>Town</td>\n      <td>Basic Membership</td>\n      <td>No</td>\n      <td>xxxxxxxx</td>\n      <td>Without Offers</td>\n      <td>...</td>\n      <td>18</td>\n      <td>31</td>\n      <td>0.002974</td>\n      <td>312</td>\n      <td>-669.123421</td>\n      <td>7724</td>\n      <td>2</td>\n      <td>1107</td>\n      <td>11597.700000</td>\n      <td>10541.720000</td>\n    </tr>\n    <tr>\n      <th>36989</th>\n      <td>fffe4300490044003500330034003100</td>\n      <td>Luciana Kinch</td>\n      <td>23</td>\n      <td>F</td>\n      <td>XK1IM9H</td>\n      <td>Village</td>\n      <td>Basic Membership</td>\n      <td>Yes</td>\n      <td>CID3838</td>\n      <td>Gift Vouchers/Coupons</td>\n      <td>...</td>\n      <td>50</td>\n      <td>25</td>\n      <td>0.002082</td>\n      <td>288</td>\n      <td>129.940000</td>\n      <td>7724</td>\n      <td>3</td>\n      <td>4205</td>\n      <td>38808.030000</td>\n      <td>37447.090000</td>\n    </tr>\n    <tr>\n      <th>36990</th>\n      <td>fffe43004900440031003200390039003000</td>\n      <td>Tawana Ardoin</td>\n      <td>53</td>\n      <td>M</td>\n      <td>K6VTP1Z</td>\n      <td>Village</td>\n      <td>Platinum Membership</td>\n      <td>No</td>\n      <td>xxxxxxxx</td>\n      <td>Gift Vouchers/Coupons</td>\n      <td>...</td>\n      <td>50</td>\n      <td>3</td>\n      <td>0.001162</td>\n      <td>360</td>\n      <td>479.610000</td>\n      <td>4338</td>\n      <td>1</td>\n      <td>1069</td>\n      <td>2576.124414</td>\n      <td>2181.595586</td>\n    </tr>\n    <tr>\n      <th>36991</th>\n      <td>fffe43004900440033003600340034003200</td>\n      <td>Verlene Beaulieu</td>\n      <td>35</td>\n      <td>M</td>\n      <td>LBX0GLR</td>\n      <td>Town</td>\n      <td>Silver Membership</td>\n      <td>No</td>\n      <td>xxxxxxxx</td>\n      <td>Gift Vouchers/Coupons</td>\n      <td>...</td>\n      <td>39</td>\n      <td>52</td>\n      <td>0.001811</td>\n      <td>360</td>\n      <td>27.180000</td>\n      <td>5988</td>\n      <td>3</td>\n      <td>4205</td>\n      <td>2909.650000</td>\n      <td>1469.710000</td>\n    </tr>\n  </tbody>\n</table>\n<p>36992 rows × 39 columns</p>\n</div>"
     },
     "metadata": {},
     "execution_count": 62
    }
   ],
   "source": [
    "train"
   ]
  },
  {
   "cell_type": "code",
   "execution_count": 63,
   "metadata": {},
   "outputs": [],
   "source": [
    "# droping customer id\n",
    "train.drop(['security_no'], axis = 1,inplace=True)\n",
    "test.drop(['security_no'], axis = 1,inplace=True)\n",
    "train.drop(['Name'], axis = 1,inplace=True)\n",
    "test.drop(['Name'], axis = 1,inplace=True)\n",
    "\n"
   ]
  },
  {
   "cell_type": "code",
   "execution_count": 64,
   "metadata": {},
   "outputs": [],
   "source": [
    "# seprating categorical and numerical \n",
    "numerical,categorical=features(train)\n"
   ]
  },
  {
   "cell_type": "code",
   "execution_count": 65,
   "metadata": {},
   "outputs": [],
   "source": [
    "categorical.remove('customer_id')"
   ]
  },
  {
   "cell_type": "code",
   "execution_count": 66,
   "metadata": {},
   "outputs": [
    {
     "output_type": "execute_result",
     "data": {
      "text/plain": [
       "0.000000     4205\n",
       "13.000000    1394\n",
       "19.000000    1365\n",
       "8.000000     1361\n",
       "14.000000    1355\n",
       "             ... \n",
       "44.675779       1\n",
       "42.302201       1\n",
       "51.835579       1\n",
       "31.241581       1\n",
       "46.066445       1\n",
       "Name: avg_frequency_login_days, Length: 971, dtype: int64"
      ]
     },
     "metadata": {},
     "execution_count": 66
    }
   ],
   "source": [
    "train['avg_frequency_login_days'].value_counts()"
   ]
  },
  {
   "cell_type": "code",
   "execution_count": 67,
   "metadata": {},
   "outputs": [
    {
     "output_type": "execute_result",
     "data": {
      "text/plain": [
       "Yes    20342\n",
       "No     16650\n",
       "Name: used_special_discount, dtype: int64"
      ]
     },
     "metadata": {},
     "execution_count": 67
    }
   ],
   "source": [
    "train['used_special_discount'].value_counts()"
   ]
  },
  {
   "cell_type": "code",
   "execution_count": 68,
   "metadata": {},
   "outputs": [
    {
     "output_type": "execute_result",
     "data": {
      "text/plain": [
       "Yes    20440\n",
       "No     16552\n",
       "Name: offer_application_preference, dtype: int64"
      ]
     },
     "metadata": {},
     "execution_count": 68
    }
   ],
   "source": [
    "train['offer_application_preference'].value_counts()"
   ]
  },
  {
   "cell_type": "code",
   "execution_count": 69,
   "metadata": {},
   "outputs": [
    {
     "output_type": "execute_result",
     "data": {
      "text/plain": [
       "No     18602\n",
       "Yes    18390\n",
       "Name: past_complaint, dtype: int64"
      ]
     },
     "metadata": {},
     "execution_count": 69
    }
   ],
   "source": [
    "train['past_complaint'].value_counts()"
   ]
  },
  {
   "cell_type": "code",
   "execution_count": 70,
   "metadata": {},
   "outputs": [
    {
     "output_type": "execute_result",
     "data": {
      "text/plain": [
       "Poor Product Quality        6350\n",
       "No reason specified         6290\n",
       "Too many ads                6279\n",
       "Poor Website                6271\n",
       "Poor Customer Service       6252\n",
       "Reasonable Price            1417\n",
       "User Friendly Website       1391\n",
       "Products always in Stock    1382\n",
       "Quality Customer Care       1360\n",
       "Name: feedback, dtype: int64"
      ]
     },
     "metadata": {},
     "execution_count": 70
    }
   ],
   "source": [
    "train['feedback'].value_counts()"
   ]
  },
  {
   "cell_type": "code",
   "execution_count": 71,
   "metadata": {},
   "outputs": [
    {
     "output_type": "execute_result",
     "data": {
      "text/plain": [
       "Not Applicable              18602\n",
       "Unsolved                     4644\n",
       "Solved                       4619\n",
       "Solved in Follow-up          4577\n",
       "No Information Available     4550\n",
       "Name: complaint_status, dtype: int64"
      ]
     },
     "metadata": {},
     "execution_count": 71
    }
   ],
   "source": [
    "train['complaint_status'].value_counts()"
   ]
  },
  {
   "cell_type": "code",
   "execution_count": null,
   "metadata": {},
   "outputs": [],
   "source": []
  },
  {
   "cell_type": "code",
   "execution_count": 72,
   "metadata": {},
   "outputs": [
    {
     "output_type": "stream",
     "name": "stderr",
     "text": [
      "/home/amninder/.local/lib/python3.8/site-packages/feature_engine/encoding/base_encoder.py:141: UserWarning: NaN values were introduced in the returned dataframe by the encoder.This means that some of the categories in the input dataframe were not present in the training set used when the fit method was called. Thus, mappings for those categories do not exist. Try using the RareLabelCategoricalEncoder to remove infrequent categories before calling this encoder.\n  warnings.warn(\n"
     ]
    }
   ],
   "source": [
    "#Applying mean encoder on categorical values\n",
    "target = train.churn_risk_score\n",
    "mean_enc = MeanEncoder(variables= categorical)\n",
    "mean_enc.fit(train[categorical], target)\n",
    "train[categorical] = mean_enc.transform(train[categorical])\n",
    "test[categorical] = mean_enc.transform(test[categorical])"
   ]
  },
  {
   "cell_type": "code",
   "execution_count": 73,
   "metadata": {},
   "outputs": [
    {
     "output_type": "execute_result",
     "data": {
      "text/plain": [
       "                                customer_id  age    gender  region_category  \\\n",
       "0          fffe4300490044003600300030003800   18  3.463152         3.422731   \n",
       "1      fffe43004900440032003100300035003700   32  3.463152         3.476015   \n",
       "2          fffe4300490044003100390032003600   44  3.463152         3.481172   \n",
       "3      fffe43004900440036003000330031003600   37  3.463645         3.476015   \n",
       "4      fffe43004900440031003900350030003600   31  3.463152         3.476015   \n",
       "...                                     ...  ...       ...              ...   \n",
       "36987  fffe43004900440035003500390036003100   46  3.463152         3.422731   \n",
       "36988  fffe43004900440033003500380036003600   29  3.463152         3.481172   \n",
       "36989      fffe4300490044003500330034003100   23  3.463152         3.422731   \n",
       "36990  fffe43004900440031003200390039003000   53  3.463645         3.422731   \n",
       "36991  fffe43004900440033003600340034003200   35  3.463645         3.481172   \n",
       "\n",
       "       membership_category  joined_through_referral  referral_id  \\\n",
       "0                 2.304518                  3.42459     3.407710   \n",
       "1                 2.296521                  3.42459     2.500000   \n",
       "2                 4.494540                  3.51594     3.666667   \n",
       "3                 4.494540                  3.51594     5.000000   \n",
       "4                 4.494540                  3.42459     3.407710   \n",
       "...                    ...                      ...          ...   \n",
       "36987             4.470999                  3.42459     3.407710   \n",
       "36988             4.470999                  3.42459     3.407710   \n",
       "36989             4.470999                  3.51594     3.666667   \n",
       "36990             2.304518                  3.42459     3.407710   \n",
       "36991             3.186039                  3.42459     3.407710   \n",
       "\n",
       "       preferred_offer_types  medium_of_operation  internet_option  ...  \\\n",
       "0                   3.378492             3.437031         3.457343  ...   \n",
       "1                   3.378492             3.430101         3.464717  ...   \n",
       "2                   3.378492             3.430101         3.457343  ...   \n",
       "3                   3.378492             3.430101         3.464717  ...   \n",
       "4                   3.447531             3.514269         3.464717  ...   \n",
       "...                      ...                  ...              ...  ...   \n",
       "36987               3.447531             3.430101         3.457343  ...   \n",
       "36988               3.568330             3.514269         3.457343  ...   \n",
       "36989               3.378492             3.430101         3.457343  ...   \n",
       "36990               3.378492             3.514269         3.464717  ...   \n",
       "36991               3.378492             3.430101         3.464717  ...   \n",
       "\n",
       "       visiting_min  visiting_sec  first_name  hours_since_last_login  \\\n",
       "0                 8             2    0.002379                     408   \n",
       "1                38            13    0.001919                     384   \n",
       "2                53            21    0.002730                     336   \n",
       "3                57            50    0.000622                     264   \n",
       "4                46            44    0.002217                     480   \n",
       "...             ...           ...         ...                     ...   \n",
       "36987            14             5    0.002622                      48   \n",
       "36988            18            31    0.002974                     312   \n",
       "36989            50            25    0.002082                     288   \n",
       "36990            50             3    0.001162                     360   \n",
       "36991            39            52    0.001811                     360   \n",
       "\n",
       "       actual_time_spent  customer_by_membership  points_by_Name  \\\n",
       "0             298.630000                    4338               1   \n",
       "1             293.340000                    4455            3446   \n",
       "2             495.160000                    7692               1   \n",
       "3               3.270000                    7692               1   \n",
       "4              69.130000                    7692               3   \n",
       "...                  ...                     ...             ...   \n",
       "36987        -655.682759                    7724               1   \n",
       "36988        -669.123421                    7724               2   \n",
       "36989         129.940000                    7724               3   \n",
       "36990         479.610000                    4338               1   \n",
       "36991          27.180000                    5988               3   \n",
       "\n",
       "       avg_trans_by_security_no  trans_points_add  trans_points_sub  \n",
       "0                          1349      53787.000000      52223.500000  \n",
       "1                          1334      13536.000000      12140.760000  \n",
       "2                          1054      21527.690000      20526.310000  \n",
       "3                          1336      25807.220000      24671.900000  \n",
       "4                          1319      25146.720000      23820.600000  \n",
       "...                         ...               ...               ...  \n",
       "36987                      1336      27917.190000      26638.170000  \n",
       "36988                      1107      11597.700000      10541.720000  \n",
       "36989                      4205      38808.030000      37447.090000  \n",
       "36990                      1069       2576.124414       2181.595586  \n",
       "36991                      4205       2909.650000       1469.710000  \n",
       "\n",
       "[36992 rows x 37 columns]"
      ],
      "text/html": "<div>\n<style scoped>\n    .dataframe tbody tr th:only-of-type {\n        vertical-align: middle;\n    }\n\n    .dataframe tbody tr th {\n        vertical-align: top;\n    }\n\n    .dataframe thead th {\n        text-align: right;\n    }\n</style>\n<table border=\"1\" class=\"dataframe\">\n  <thead>\n    <tr style=\"text-align: right;\">\n      <th></th>\n      <th>customer_id</th>\n      <th>age</th>\n      <th>gender</th>\n      <th>region_category</th>\n      <th>membership_category</th>\n      <th>joined_through_referral</th>\n      <th>referral_id</th>\n      <th>preferred_offer_types</th>\n      <th>medium_of_operation</th>\n      <th>internet_option</th>\n      <th>...</th>\n      <th>visiting_min</th>\n      <th>visiting_sec</th>\n      <th>first_name</th>\n      <th>hours_since_last_login</th>\n      <th>actual_time_spent</th>\n      <th>customer_by_membership</th>\n      <th>points_by_Name</th>\n      <th>avg_trans_by_security_no</th>\n      <th>trans_points_add</th>\n      <th>trans_points_sub</th>\n    </tr>\n  </thead>\n  <tbody>\n    <tr>\n      <th>0</th>\n      <td>fffe4300490044003600300030003800</td>\n      <td>18</td>\n      <td>3.463152</td>\n      <td>3.422731</td>\n      <td>2.304518</td>\n      <td>3.42459</td>\n      <td>3.407710</td>\n      <td>3.378492</td>\n      <td>3.437031</td>\n      <td>3.457343</td>\n      <td>...</td>\n      <td>8</td>\n      <td>2</td>\n      <td>0.002379</td>\n      <td>408</td>\n      <td>298.630000</td>\n      <td>4338</td>\n      <td>1</td>\n      <td>1349</td>\n      <td>53787.000000</td>\n      <td>52223.500000</td>\n    </tr>\n    <tr>\n      <th>1</th>\n      <td>fffe43004900440032003100300035003700</td>\n      <td>32</td>\n      <td>3.463152</td>\n      <td>3.476015</td>\n      <td>2.296521</td>\n      <td>3.42459</td>\n      <td>2.500000</td>\n      <td>3.378492</td>\n      <td>3.430101</td>\n      <td>3.464717</td>\n      <td>...</td>\n      <td>38</td>\n      <td>13</td>\n      <td>0.001919</td>\n      <td>384</td>\n      <td>293.340000</td>\n      <td>4455</td>\n      <td>3446</td>\n      <td>1334</td>\n      <td>13536.000000</td>\n      <td>12140.760000</td>\n    </tr>\n    <tr>\n      <th>2</th>\n      <td>fffe4300490044003100390032003600</td>\n      <td>44</td>\n      <td>3.463152</td>\n      <td>3.481172</td>\n      <td>4.494540</td>\n      <td>3.51594</td>\n      <td>3.666667</td>\n      <td>3.378492</td>\n      <td>3.430101</td>\n      <td>3.457343</td>\n      <td>...</td>\n      <td>53</td>\n      <td>21</td>\n      <td>0.002730</td>\n      <td>336</td>\n      <td>495.160000</td>\n      <td>7692</td>\n      <td>1</td>\n      <td>1054</td>\n      <td>21527.690000</td>\n      <td>20526.310000</td>\n    </tr>\n    <tr>\n      <th>3</th>\n      <td>fffe43004900440036003000330031003600</td>\n      <td>37</td>\n      <td>3.463645</td>\n      <td>3.476015</td>\n      <td>4.494540</td>\n      <td>3.51594</td>\n      <td>5.000000</td>\n      <td>3.378492</td>\n      <td>3.430101</td>\n      <td>3.464717</td>\n      <td>...</td>\n      <td>57</td>\n      <td>50</td>\n      <td>0.000622</td>\n      <td>264</td>\n      <td>3.270000</td>\n      <td>7692</td>\n      <td>1</td>\n      <td>1336</td>\n      <td>25807.220000</td>\n      <td>24671.900000</td>\n    </tr>\n    <tr>\n      <th>4</th>\n      <td>fffe43004900440031003900350030003600</td>\n      <td>31</td>\n      <td>3.463152</td>\n      <td>3.476015</td>\n      <td>4.494540</td>\n      <td>3.42459</td>\n      <td>3.407710</td>\n      <td>3.447531</td>\n      <td>3.514269</td>\n      <td>3.464717</td>\n      <td>...</td>\n      <td>46</td>\n      <td>44</td>\n      <td>0.002217</td>\n      <td>480</td>\n      <td>69.130000</td>\n      <td>7692</td>\n      <td>3</td>\n      <td>1319</td>\n      <td>25146.720000</td>\n      <td>23820.600000</td>\n    </tr>\n    <tr>\n      <th>...</th>\n      <td>...</td>\n      <td>...</td>\n      <td>...</td>\n      <td>...</td>\n      <td>...</td>\n      <td>...</td>\n      <td>...</td>\n      <td>...</td>\n      <td>...</td>\n      <td>...</td>\n      <td>...</td>\n      <td>...</td>\n      <td>...</td>\n      <td>...</td>\n      <td>...</td>\n      <td>...</td>\n      <td>...</td>\n      <td>...</td>\n      <td>...</td>\n      <td>...</td>\n      <td>...</td>\n    </tr>\n    <tr>\n      <th>36987</th>\n      <td>fffe43004900440035003500390036003100</td>\n      <td>46</td>\n      <td>3.463152</td>\n      <td>3.422731</td>\n      <td>4.470999</td>\n      <td>3.42459</td>\n      <td>3.407710</td>\n      <td>3.447531</td>\n      <td>3.430101</td>\n      <td>3.457343</td>\n      <td>...</td>\n      <td>14</td>\n      <td>5</td>\n      <td>0.002622</td>\n      <td>48</td>\n      <td>-655.682759</td>\n      <td>7724</td>\n      <td>1</td>\n      <td>1336</td>\n      <td>27917.190000</td>\n      <td>26638.170000</td>\n    </tr>\n    <tr>\n      <th>36988</th>\n      <td>fffe43004900440033003500380036003600</td>\n      <td>29</td>\n      <td>3.463152</td>\n      <td>3.481172</td>\n      <td>4.470999</td>\n      <td>3.42459</td>\n      <td>3.407710</td>\n      <td>3.568330</td>\n      <td>3.514269</td>\n      <td>3.457343</td>\n      <td>...</td>\n      <td>18</td>\n      <td>31</td>\n      <td>0.002974</td>\n      <td>312</td>\n      <td>-669.123421</td>\n      <td>7724</td>\n      <td>2</td>\n      <td>1107</td>\n      <td>11597.700000</td>\n      <td>10541.720000</td>\n    </tr>\n    <tr>\n      <th>36989</th>\n      <td>fffe4300490044003500330034003100</td>\n      <td>23</td>\n      <td>3.463152</td>\n      <td>3.422731</td>\n      <td>4.470999</td>\n      <td>3.51594</td>\n      <td>3.666667</td>\n      <td>3.378492</td>\n      <td>3.430101</td>\n      <td>3.457343</td>\n      <td>...</td>\n      <td>50</td>\n      <td>25</td>\n      <td>0.002082</td>\n      <td>288</td>\n      <td>129.940000</td>\n      <td>7724</td>\n      <td>3</td>\n      <td>4205</td>\n      <td>38808.030000</td>\n      <td>37447.090000</td>\n    </tr>\n    <tr>\n      <th>36990</th>\n      <td>fffe43004900440031003200390039003000</td>\n      <td>53</td>\n      <td>3.463645</td>\n      <td>3.422731</td>\n      <td>2.304518</td>\n      <td>3.42459</td>\n      <td>3.407710</td>\n      <td>3.378492</td>\n      <td>3.514269</td>\n      <td>3.464717</td>\n      <td>...</td>\n      <td>50</td>\n      <td>3</td>\n      <td>0.001162</td>\n      <td>360</td>\n      <td>479.610000</td>\n      <td>4338</td>\n      <td>1</td>\n      <td>1069</td>\n      <td>2576.124414</td>\n      <td>2181.595586</td>\n    </tr>\n    <tr>\n      <th>36991</th>\n      <td>fffe43004900440033003600340034003200</td>\n      <td>35</td>\n      <td>3.463645</td>\n      <td>3.481172</td>\n      <td>3.186039</td>\n      <td>3.42459</td>\n      <td>3.407710</td>\n      <td>3.378492</td>\n      <td>3.430101</td>\n      <td>3.464717</td>\n      <td>...</td>\n      <td>39</td>\n      <td>52</td>\n      <td>0.001811</td>\n      <td>360</td>\n      <td>27.180000</td>\n      <td>5988</td>\n      <td>3</td>\n      <td>4205</td>\n      <td>2909.650000</td>\n      <td>1469.710000</td>\n    </tr>\n  </tbody>\n</table>\n<p>36992 rows × 37 columns</p>\n</div>"
     },
     "metadata": {},
     "execution_count": 73
    }
   ],
   "source": [
    "train"
   ]
  },
  {
   "cell_type": "code",
   "execution_count": 80,
   "metadata": {},
   "outputs": [
    {
     "output_type": "stream",
     "name": "stdout",
     "text": [
      "['gender', 'region_category', 'membership_category', 'joined_through_referral', 'referral_id', 'preferred_offer_types', 'medium_of_operation', 'internet_option', 'used_special_discount', 'offer_application_preference', 'past_complaint', 'complaint_status', 'feedback', 'membership_by_refer_id_min', 'membership_by_refer_id_max']\n"
     ]
    }
   ],
   "source": [
    "print(categorical)"
   ]
  },
  {
   "cell_type": "code",
   "execution_count": 74,
   "metadata": {},
   "outputs": [],
   "source": [
    "train.to_csv('../input/proc_test.csv', index= False)\n",
    "test.to_csv('../input/proc_test.csv', index= False)"
   ]
  },
  {
   "cell_type": "code",
   "execution_count": 75,
   "metadata": {},
   "outputs": [
    {
     "output_type": "execute_result",
     "data": {
      "text/plain": [
       "                            customer_id  age    gender  region_category  \\\n",
       "0  fffe43004900440031003700300030003400   50  3.463152         3.422731   \n",
       "1  fffe43004900440031003900370037003300   41  3.463645         3.422731   \n",
       "2  fffe43004900440034003800360037003000   31  3.463152         3.481172   \n",
       "3  fffe43004900440036003200370033003400   64  3.463645         3.481172   \n",
       "4  fffe43004900440035003000370031003900   16  3.463152         3.481172   \n",
       "\n",
       "   membership_category  joined_through_referral  referral_id  \\\n",
       "0             2.296521                  3.42459      3.40771   \n",
       "1             2.900074                  3.42459      3.40771   \n",
       "2             3.186039                  3.42459      3.40771   \n",
       "3             3.186039                  3.51594      3.00000   \n",
       "4             4.494540                  3.51594      4.00000   \n",
       "\n",
       "   preferred_offer_types  medium_of_operation  internet_option  ...  \\\n",
       "0               3.568330             3.514269         3.457343  ...   \n",
       "1               3.568330             3.430101         3.468209  ...   \n",
       "2               3.378492             3.437031         3.464717  ...   \n",
       "3               3.447531             3.437031         3.468209  ...   \n",
       "4               3.568330             3.514269         3.464717  ...   \n",
       "\n",
       "   visiting_min  visiting_sec  first_name  hours_since_last_login  \\\n",
       "0            19            30    0.002811                     288   \n",
       "1            21            16    0.002811                     264   \n",
       "2            40            39    0.000803                     432   \n",
       "3            56            17    0.001757                       0   \n",
       "4            57            53    0.002912                     144   \n",
       "\n",
       "   actual_time_spent  customer_by_membership  points_by_Name  \\\n",
       "0             356.26                    2365               1   \n",
       "1              21.80                    3750               1   \n",
       "2             176.36                    3199               1   \n",
       "3              27.57                    3199               2   \n",
       "4             296.88                    4123               1   \n",
       "\n",
       "   avg_trans_by_security_no  trans_points_add  trans_points_sub  \n",
       "0                       743      41455.270000      39987.610000  \n",
       "1                       712      10370.400000       8918.400000  \n",
       "2                       581       4407.030000       2979.470000  \n",
       "3                       710      37554.530000      36064.590000  \n",
       "4                       685      40974.908351      40376.811649  \n",
       "\n",
       "[5 rows x 36 columns]"
      ],
      "text/html": "<div>\n<style scoped>\n    .dataframe tbody tr th:only-of-type {\n        vertical-align: middle;\n    }\n\n    .dataframe tbody tr th {\n        vertical-align: top;\n    }\n\n    .dataframe thead th {\n        text-align: right;\n    }\n</style>\n<table border=\"1\" class=\"dataframe\">\n  <thead>\n    <tr style=\"text-align: right;\">\n      <th></th>\n      <th>customer_id</th>\n      <th>age</th>\n      <th>gender</th>\n      <th>region_category</th>\n      <th>membership_category</th>\n      <th>joined_through_referral</th>\n      <th>referral_id</th>\n      <th>preferred_offer_types</th>\n      <th>medium_of_operation</th>\n      <th>internet_option</th>\n      <th>...</th>\n      <th>visiting_min</th>\n      <th>visiting_sec</th>\n      <th>first_name</th>\n      <th>hours_since_last_login</th>\n      <th>actual_time_spent</th>\n      <th>customer_by_membership</th>\n      <th>points_by_Name</th>\n      <th>avg_trans_by_security_no</th>\n      <th>trans_points_add</th>\n      <th>trans_points_sub</th>\n    </tr>\n  </thead>\n  <tbody>\n    <tr>\n      <th>0</th>\n      <td>fffe43004900440031003700300030003400</td>\n      <td>50</td>\n      <td>3.463152</td>\n      <td>3.422731</td>\n      <td>2.296521</td>\n      <td>3.42459</td>\n      <td>3.40771</td>\n      <td>3.568330</td>\n      <td>3.514269</td>\n      <td>3.457343</td>\n      <td>...</td>\n      <td>19</td>\n      <td>30</td>\n      <td>0.002811</td>\n      <td>288</td>\n      <td>356.26</td>\n      <td>2365</td>\n      <td>1</td>\n      <td>743</td>\n      <td>41455.270000</td>\n      <td>39987.610000</td>\n    </tr>\n    <tr>\n      <th>1</th>\n      <td>fffe43004900440031003900370037003300</td>\n      <td>41</td>\n      <td>3.463645</td>\n      <td>3.422731</td>\n      <td>2.900074</td>\n      <td>3.42459</td>\n      <td>3.40771</td>\n      <td>3.568330</td>\n      <td>3.430101</td>\n      <td>3.468209</td>\n      <td>...</td>\n      <td>21</td>\n      <td>16</td>\n      <td>0.002811</td>\n      <td>264</td>\n      <td>21.80</td>\n      <td>3750</td>\n      <td>1</td>\n      <td>712</td>\n      <td>10370.400000</td>\n      <td>8918.400000</td>\n    </tr>\n    <tr>\n      <th>2</th>\n      <td>fffe43004900440034003800360037003000</td>\n      <td>31</td>\n      <td>3.463152</td>\n      <td>3.481172</td>\n      <td>3.186039</td>\n      <td>3.42459</td>\n      <td>3.40771</td>\n      <td>3.378492</td>\n      <td>3.437031</td>\n      <td>3.464717</td>\n      <td>...</td>\n      <td>40</td>\n      <td>39</td>\n      <td>0.000803</td>\n      <td>432</td>\n      <td>176.36</td>\n      <td>3199</td>\n      <td>1</td>\n      <td>581</td>\n      <td>4407.030000</td>\n      <td>2979.470000</td>\n    </tr>\n    <tr>\n      <th>3</th>\n      <td>fffe43004900440036003200370033003400</td>\n      <td>64</td>\n      <td>3.463645</td>\n      <td>3.481172</td>\n      <td>3.186039</td>\n      <td>3.51594</td>\n      <td>3.00000</td>\n      <td>3.447531</td>\n      <td>3.437031</td>\n      <td>3.468209</td>\n      <td>...</td>\n      <td>56</td>\n      <td>17</td>\n      <td>0.001757</td>\n      <td>0</td>\n      <td>27.57</td>\n      <td>3199</td>\n      <td>2</td>\n      <td>710</td>\n      <td>37554.530000</td>\n      <td>36064.590000</td>\n    </tr>\n    <tr>\n      <th>4</th>\n      <td>fffe43004900440035003000370031003900</td>\n      <td>16</td>\n      <td>3.463152</td>\n      <td>3.481172</td>\n      <td>4.494540</td>\n      <td>3.51594</td>\n      <td>4.00000</td>\n      <td>3.568330</td>\n      <td>3.514269</td>\n      <td>3.464717</td>\n      <td>...</td>\n      <td>57</td>\n      <td>53</td>\n      <td>0.002912</td>\n      <td>144</td>\n      <td>296.88</td>\n      <td>4123</td>\n      <td>1</td>\n      <td>685</td>\n      <td>40974.908351</td>\n      <td>40376.811649</td>\n    </tr>\n  </tbody>\n</table>\n<p>5 rows × 36 columns</p>\n</div>"
     },
     "metadata": {},
     "execution_count": 75
    }
   ],
   "source": [
    "test.head()"
   ]
  },
  {
   "cell_type": "code",
   "execution_count": null,
   "metadata": {},
   "outputs": [],
   "source": []
  },
  {
   "cell_type": "code",
   "execution_count": null,
   "metadata": {},
   "outputs": [],
   "source": []
  }
 ]
}